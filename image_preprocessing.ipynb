# Dummy file for image_preprocessing.ipynb
